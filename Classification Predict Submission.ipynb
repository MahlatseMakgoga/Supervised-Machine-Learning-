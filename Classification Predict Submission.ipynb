{
 "cells": [
  {
   "cell_type": "code",
   "execution_count": 151,
   "id": "edca53ba",
   "metadata": {},
   "outputs": [
    {
     "name": "stdout",
     "output_type": "stream",
     "text": [
      "Requirement already satisfied: comet_ml in c:\\users\\admin\\.conda\\lib\\site-packages (3.40.0)Note: you may need to restart the kernel to use updated packages.\n",
      "\n",
      "Requirement already satisfied: everett[ini]<3.2.0,>=1.0.1 in c:\\users\\admin\\.conda\\lib\\site-packages (from comet_ml) (3.1.0)\n",
      "Requirement already satisfied: jsonschema!=3.1.0,>=2.6.0 in c:\\users\\admin\\.conda\\lib\\site-packages (from comet_ml) (4.17.3)\n",
      "Requirement already satisfied: psutil>=5.6.3 in c:\\users\\admin\\.conda\\lib\\site-packages (from comet_ml) (5.9.0)\n",
      "Requirement already satisfied: python-box<7.0.0 in c:\\users\\admin\\.conda\\lib\\site-packages (from comet_ml) (6.1.0)\n",
      "Requirement already satisfied: requests-toolbelt>=0.8.0 in c:\\users\\admin\\.conda\\lib\\site-packages (from comet_ml) (1.0.0)\n",
      "Requirement already satisfied: requests>=2.18.4 in c:\\users\\admin\\.conda\\lib\\site-packages (from comet_ml) (2.31.0)\n",
      "Requirement already satisfied: semantic-version>=2.8.0 in c:\\users\\admin\\.conda\\lib\\site-packages (from comet_ml) (2.10.0)\n",
      "Requirement already satisfied: sentry-sdk>=1.1.0 in c:\\users\\admin\\.conda\\lib\\site-packages (from comet_ml) (1.45.0)\n",
      "Requirement already satisfied: simplejson in c:\\users\\admin\\.conda\\lib\\site-packages (from comet_ml) (3.19.2)\n",
      "Requirement already satisfied: six in c:\\users\\admin\\.conda\\lib\\site-packages (from comet_ml) (1.16.0)\n",
      "Requirement already satisfied: urllib3>=1.21.1 in c:\\users\\admin\\.conda\\lib\\site-packages (from comet_ml) (1.26.16)\n",
      "Requirement already satisfied: websocket-client<1.4.0,>=0.55.0 in c:\\users\\admin\\.conda\\lib\\site-packages (from comet_ml) (0.58.0)\n",
      "Requirement already satisfied: wrapt>=1.11.2 in c:\\users\\admin\\.conda\\lib\\site-packages (from comet_ml) (1.14.1)\n",
      "Requirement already satisfied: wurlitzer>=1.0.2 in c:\\users\\admin\\.conda\\lib\\site-packages (from comet_ml) (3.0.3)\n",
      "Requirement already satisfied: dulwich!=0.20.33,>=0.20.6 in c:\\users\\admin\\.conda\\lib\\site-packages (from comet_ml) (0.21.7)\n",
      "Requirement already satisfied: rich>=13.3.2 in c:\\users\\admin\\.conda\\lib\\site-packages (from comet_ml) (13.7.1)\n",
      "Requirement already satisfied: configobj in c:\\users\\admin\\.conda\\lib\\site-packages (from everett[ini]<3.2.0,>=1.0.1->comet_ml) (5.0.8)\n",
      "Requirement already satisfied: attrs>=17.4.0 in c:\\users\\admin\\.conda\\lib\\site-packages (from jsonschema!=3.1.0,>=2.6.0->comet_ml) (22.1.0)\n",
      "Requirement already satisfied: pyrsistent!=0.17.0,!=0.17.1,!=0.17.2,>=0.14.0 in c:\\users\\admin\\.conda\\lib\\site-packages (from jsonschema!=3.1.0,>=2.6.0->comet_ml) (0.18.0)\n",
      "Requirement already satisfied: charset-normalizer<4,>=2 in c:\\users\\admin\\.conda\\lib\\site-packages (from requests>=2.18.4->comet_ml) (2.0.4)\n",
      "Requirement already satisfied: idna<4,>=2.5 in c:\\users\\admin\\.conda\\lib\\site-packages (from requests>=2.18.4->comet_ml) (3.4)\n",
      "Requirement already satisfied: certifi>=2017.4.17 in c:\\users\\admin\\.conda\\lib\\site-packages (from requests>=2.18.4->comet_ml) (2023.7.22)\n",
      "Requirement already satisfied: markdown-it-py>=2.2.0 in c:\\users\\admin\\.conda\\lib\\site-packages (from rich>=13.3.2->comet_ml) (2.2.0)\n",
      "Requirement already satisfied: pygments<3.0.0,>=2.13.0 in c:\\users\\admin\\.conda\\lib\\site-packages (from rich>=13.3.2->comet_ml) (2.15.1)\n",
      "Requirement already satisfied: mdurl~=0.1 in c:\\users\\admin\\.conda\\lib\\site-packages (from markdown-it-py>=2.2.0->rich>=13.3.2->comet_ml) (0.1.0)\n"
     ]
    }
   ],
   "source": [
    "pip install comet_ml"
   ]
  },
  {
   "cell_type": "code",
   "execution_count": 152,
   "id": "7b4c0584",
   "metadata": {},
   "outputs": [],
   "source": [
    "from comet_ml import Experiment"
   ]
  },
  {
   "cell_type": "code",
   "execution_count": 153,
   "id": "3c9a800d",
   "metadata": {},
   "outputs": [
    {
     "name": "stderr",
     "output_type": "stream",
     "text": [
      "\u001b[1;38;5;214mCOMET WARNING:\u001b[0m To get all data logged automatically, import comet_ml before the following modules: sklearn, xgboost.\n",
      "\u001b[1;38;5;39mCOMET INFO:\u001b[0m ---------------------------------------------------------------------------------------\n",
      "\u001b[1;38;5;39mCOMET INFO:\u001b[0m Comet.ml Experiment Summary\n",
      "\u001b[1;38;5;39mCOMET INFO:\u001b[0m ---------------------------------------------------------------------------------------\n",
      "\u001b[1;38;5;39mCOMET INFO:\u001b[0m   Data:\n",
      "\u001b[1;38;5;39mCOMET INFO:\u001b[0m     display_summary_level : 1\n",
      "\u001b[1;38;5;39mCOMET INFO:\u001b[0m     name                  : existing_arch_8072\n",
      "\u001b[1;38;5;39mCOMET INFO:\u001b[0m     url                   : https://www.comet.com/mahlatsemakgoga/general/b21cd47c1d9e4ae1be586a0972cfc081\n",
      "\u001b[1;38;5;39mCOMET INFO:\u001b[0m   Uploads:\n",
      "\u001b[1;38;5;39mCOMET INFO:\u001b[0m     conda-environment-definition : 1\n",
      "\u001b[1;38;5;39mCOMET INFO:\u001b[0m     conda-info                   : 1\n",
      "\u001b[1;38;5;39mCOMET INFO:\u001b[0m     conda-specification          : 1\n",
      "\u001b[1;38;5;39mCOMET INFO:\u001b[0m     environment details          : 1\n",
      "\u001b[1;38;5;39mCOMET INFO:\u001b[0m     filename                     : 1\n",
      "\u001b[1;38;5;39mCOMET INFO:\u001b[0m     installed packages           : 1\n",
      "\u001b[1;38;5;39mCOMET INFO:\u001b[0m     notebook                     : 1\n",
      "\u001b[1;38;5;39mCOMET INFO:\u001b[0m     source_code                  : 1\n",
      "\u001b[1;38;5;39mCOMET INFO:\u001b[0m \n",
      "\u001b[1;38;5;214mCOMET WARNING:\u001b[0m To get all data logged automatically, import comet_ml before the following modules: sklearn, xgboost.\n",
      "\u001b[1;38;5;214mCOMET WARNING:\u001b[0m As you are running in a Jupyter environment, you will need to call `experiment.end()` when finished to ensure all metrics and code are logged before exiting.\n",
      "\u001b[1;38;5;214mCOMET WARNING:\u001b[0m Failed to check backend version at URL: 'https://www.comet.com/clientlib/isAlive/ver'\n",
      "\u001b[1;38;5;196mCOMET ERROR:\u001b[0m Run will not be logged \n",
      "For more details, please refer to: https://www.comet.com/docs/v2/api-and-sdk/python-sdk/warnings-errors/\n",
      "Traceback (most recent call last):\n",
      "  File \"C:\\Users\\admin\\.conda\\Lib\\site-packages\\urllib3\\connection.py\", line 174, in _new_conn\n",
      "    conn = connection.create_connection(\n",
      "           ^^^^^^^^^^^^^^^^^^^^^^^^^^^^^\n",
      "  File \"C:\\Users\\admin\\.conda\\Lib\\site-packages\\urllib3\\util\\connection.py\", line 72, in create_connection\n",
      "    for res in socket.getaddrinfo(host, port, family, socket.SOCK_STREAM):\n",
      "               ^^^^^^^^^^^^^^^^^^^^^^^^^^^^^^^^^^^^^^^^^^^^^^^^^^^^^^^^^^\n",
      "  File \"C:\\Users\\admin\\.conda\\Lib\\socket.py\", line 962, in getaddrinfo\n",
      "    for res in _socket.getaddrinfo(host, port, family, type, proto, flags):\n",
      "               ^^^^^^^^^^^^^^^^^^^^^^^^^^^^^^^^^^^^^^^^^^^^^^^^^^^^^^^^^^^\n",
      "socket.gaierror: [Errno 11001] getaddrinfo failed\n",
      "\n",
      "During handling of the above exception, another exception occurred:\n",
      "\n",
      "Traceback (most recent call last):\n",
      "  File \"C:\\Users\\admin\\.conda\\Lib\\site-packages\\urllib3\\connectionpool.py\", line 714, in urlopen\n",
      "    httplib_response = self._make_request(\n",
      "                       ^^^^^^^^^^^^^^^^^^^\n",
      "  File \"C:\\Users\\admin\\.conda\\Lib\\site-packages\\urllib3\\connectionpool.py\", line 403, in _make_request\n",
      "    self._validate_conn(conn)\n",
      "  File \"C:\\Users\\admin\\.conda\\Lib\\site-packages\\urllib3\\connectionpool.py\", line 1053, in _validate_conn\n",
      "    conn.connect()\n",
      "  File \"C:\\Users\\admin\\.conda\\Lib\\site-packages\\urllib3\\connection.py\", line 363, in connect\n",
      "    self.sock = conn = self._new_conn()\n",
      "                       ^^^^^^^^^^^^^^^^\n",
      "  File \"C:\\Users\\admin\\.conda\\Lib\\site-packages\\urllib3\\connection.py\", line 186, in _new_conn\n",
      "    raise NewConnectionError(\n",
      "urllib3.exceptions.NewConnectionError: <urllib3.connection.HTTPSConnection object at 0x000001A918A04490>: Failed to establish a new connection: [Errno 11001] getaddrinfo failed\n",
      "\n",
      "During handling of the above exception, another exception occurred:\n",
      "\n",
      "Traceback (most recent call last):\n",
      "  File \"C:\\Users\\admin\\.conda\\Lib\\site-packages\\requests\\adapters.py\", line 486, in send\n",
      "    resp = conn.urlopen(\n",
      "           ^^^^^^^^^^^^^\n",
      "  File \"C:\\Users\\admin\\.conda\\Lib\\site-packages\\urllib3\\connectionpool.py\", line 826, in urlopen\n",
      "    return self.urlopen(\n",
      "           ^^^^^^^^^^^^^\n",
      "  File \"C:\\Users\\admin\\.conda\\Lib\\site-packages\\urllib3\\connectionpool.py\", line 826, in urlopen\n",
      "    return self.urlopen(\n",
      "           ^^^^^^^^^^^^^\n",
      "  File \"C:\\Users\\admin\\.conda\\Lib\\site-packages\\urllib3\\connectionpool.py\", line 826, in urlopen\n",
      "    return self.urlopen(\n",
      "           ^^^^^^^^^^^^^\n",
      "  File \"C:\\Users\\admin\\.conda\\Lib\\site-packages\\urllib3\\connectionpool.py\", line 798, in urlopen\n",
      "    retries = retries.increment(\n",
      "              ^^^^^^^^^^^^^^^^^^\n",
      "  File \"C:\\Users\\admin\\.conda\\Lib\\site-packages\\urllib3\\util\\retry.py\", line 592, in increment\n",
      "    raise MaxRetryError(_pool, url, error or ResponseError(cause))\n",
      "urllib3.exceptions.MaxRetryError: HTTPSConnectionPool(host='www.comet.com', port=443): Max retries exceeded with url: /clientlib/logger/add/run (Caused by NewConnectionError('<urllib3.connection.HTTPSConnection object at 0x000001A918A04490>: Failed to establish a new connection: [Errno 11001] getaddrinfo failed'))\n",
      "\n",
      "During handling of the above exception, another exception occurred:\n",
      "\n",
      "Traceback (most recent call last):\n",
      "  File \"C:\\Users\\admin\\.conda\\Lib\\site-packages\\comet_ml\\experiment.py\", line 1105, in _start\n",
      "    self.alive = self._setup_streamer()\n",
      "                 ^^^^^^^^^^^^^^^^^^^^^^\n",
      "  File \"C:\\Users\\admin\\.conda\\Lib\\site-packages\\comet_ml\\_online.py\", line 326, in _setup_streamer\n",
      "    results = self._authenticate()\n",
      "              ^^^^^^^^^^^^^^^^^^^^\n",
      "  File \"C:\\Users\\admin\\.conda\\Lib\\site-packages\\comet_ml\\_online.py\", line 379, in _authenticate\n",
      "    run_id_response = self._get_run_id()\n",
      "                      ^^^^^^^^^^^^^^^^^^\n",
      "  File \"C:\\Users\\admin\\.conda\\Lib\\site-packages\\comet_ml\\_online.py\", line 420, in _get_run_id\n",
      "    return self.connection.get_run_id(self.project_name, self.workspace)\n",
      "           ^^^^^^^^^^^^^^^^^^^^^^^^^^^^^^^^^^^^^^^^^^^^^^^^^^^^^^^^^^^^^\n",
      "  File \"C:\\Users\\admin\\.conda\\Lib\\site-packages\\comet_ml\\connection.py\", line 717, in get_run_id\n",
      "    r = self._low_level_http_client.post(\n",
      "        ^^^^^^^^^^^^^^^^^^^^^^^^^^^^^^^^^\n",
      "  File \"C:\\Users\\admin\\.conda\\Lib\\site-packages\\comet_ml\\connection.py\", line 426, in post\n",
      "    return self.do(\n",
      "           ^^^^^^^^\n",
      "  File \"C:\\Users\\admin\\.conda\\Lib\\site-packages\\comet_ml\\connection.py\", line 531, in do\n",
      "    response = session.request(\n",
      "               ^^^^^^^^^^^^^^^^\n",
      "  File \"C:\\Users\\admin\\.conda\\Lib\\site-packages\\requests\\sessions.py\", line 589, in request\n",
      "    resp = self.send(prep, **send_kwargs)\n",
      "           ^^^^^^^^^^^^^^^^^^^^^^^^^^^^^^\n",
      "  File \"C:\\Users\\admin\\.conda\\Lib\\site-packages\\requests\\sessions.py\", line 703, in send\n",
      "    r = adapter.send(request, **kwargs)\n",
      "        ^^^^^^^^^^^^^^^^^^^^^^^^^^^^^^^\n",
      "  File \"C:\\Users\\admin\\.conda\\Lib\\site-packages\\requests\\adapters.py\", line 519, in send\n",
      "    raise ConnectionError(e, request=request)\n",
      "requests.exceptions.ConnectionError: HTTPSConnectionPool(host='www.comet.com', port=443): Max retries exceeded with url: /clientlib/logger/add/run (Caused by NewConnectionError('<urllib3.connection.HTTPSConnection object at 0x000001A918A04490>: Failed to establish a new connection: [Errno 11001] getaddrinfo failed'))\n"
     ]
    }
   ],
   "source": [
    "from comet_ml import Experiment\n",
    "from comet_ml.integration.sklearn import log_model\n",
    "\n",
    "experiment = Experiment(\n",
    "  api_key=\"UlZbegBXuDUBBraHG96wrMwMO\",\n",
    "  project_name=\"general\",\n",
    "  workspace=\"mahlatsemakgoga\"\n",
    ")"
   ]
  },
  {
   "cell_type": "markdown",
   "id": "e63f6684",
   "metadata": {},
   "source": [
    "<a id=\"section-one\"></a>\n",
    "# Introduction\n",
    "\n",
    "The global phenomenon of climate change involves ongoing alterations in average temperatures and weather patterns. Extreme weather events and catastrophes stemming from global warming, such as hurricanes, floods, and fires, directly impact 70% of all economic sectors worldwide.\n",
    "\n",
    "Increasingly, business leaders are recognizing the business imperative of climate change, understanding it to be an existential threat with far-reaching consequences for their people and business operations. A progressively warmer planet creates a wide range of risks for businesses, from disrupted supply chains to rising insurance costs and labor challenges.\n",
    "\n",
    "This new reality has prompted many companies to explore ways to lessen their environmental impact and carbon footprint by offering products and services that are environmentally friendly, sustainable, and in line with their values and ideals.\n",
    "\n",
    "Social media is a powerful source of information on a wide range of topics. Data from popular social media platforms, such as Twitter, can be harvested and analyzed to identify trends related to specific topics, measure popular sentiment, obtain feedback on past decisions, and also help shape future decisions."
   ]
  },
  {
   "cell_type": "markdown",
   "id": "0936b550",
   "metadata": {},
   "source": [
    "<a id=\"section-two\"></a>\n",
    "# Problem Statement\n",
    "The aim of this project is to gauge the public perception of climate change using twitter data. This will help companies to: \n",
    "* Access broad base consumer sentiments, and insights in order to inform future marketing strategies.\n",
    "* Gain insights on people's views and perceptions about climate change. \n",
    "* Improve market research efforts for companies that provide environmentally-friendly products and services.\n",
    "* Strengthen efforts to reduce carbon footprint. "
   ]
  },
  {
   "cell_type": "markdown",
   "id": "6f300c37",
   "metadata": {},
   "source": [
    "<a id=\"section-four\"></a>\n",
    "# Import libraries"
   ]
  },
  {
   "cell_type": "code",
   "execution_count": 153,
   "id": "21e495df",
   "metadata": {},
   "outputs": [
    {
     "name": "stderr",
     "output_type": "stream",
     "text": [
      "C:\\Users\\admin\\AppData\\Local\\Temp\\ipykernel_10256\\3113789901.py:12: MatplotlibDeprecationWarning: The seaborn styles shipped by Matplotlib are deprecated since 3.6, as they no longer correspond to the styles shipped by seaborn. However, they will remain available as 'seaborn-v0_8-<style>'. Alternatively, directly use the seaborn API instead.\n",
      "  style.use('seaborn-pastel')\n",
      "C:\\Users\\admin\\AppData\\Local\\Temp\\ipykernel_10256\\3113789901.py:13: MatplotlibDeprecationWarning: The seaborn styles shipped by Matplotlib are deprecated since 3.6, as they no longer correspond to the styles shipped by seaborn. However, they will remain available as 'seaborn-v0_8-<style>'. Alternatively, directly use the seaborn API instead.\n",
      "  style.use('seaborn-poster')\n"
     ]
    }
   ],
   "source": [
    "import numpy as np\n",
    "import pandas as pd\n",
    "from time import time\n",
    "\n",
    "# Packages for visualisations\n",
    "from wordcloud import WordCloud\n",
    "import matplotlib.pyplot as plt\n",
    "%matplotlib inline\n",
    "import seaborn as sns \n",
    "sns.set(font_scale=1.5)\n",
    "import matplotlib.style as style\n",
    "style.use('seaborn-pastel')\n",
    "style.use('seaborn-poster')\n",
    "from PIL import Image\n",
    "\n",
    "# Packages for preprocessing\n",
    "import re\n",
    "import nltk\n",
    "import string\n",
    "from nltk import word_tokenize\n",
    "from nltk.corpus import stopwords\n",
    "from sklearn.feature_extraction.text import CountVectorizer\n",
    "from sklearn.feature_extraction.text import TfidfVectorizer\n",
    "from nltk.probability import FreqDist\n",
    "import emoji\n",
    "from ftfy import fix_text\n",
    "from spellchecker import SpellChecker\n",
    "from nltk.stem import WordNetLemmatizer\n",
    "from nltk.corpus import stopwords, wordnet \n",
    "from nltk.stem.snowball import SnowballStemmer\n",
    "from nltk.sentiment.vader import SentimentIntensityAnalyzer\n",
    "import itertools\n",
    "from sklearn.model_selection import train_test_split\n",
    "from sklearn.utils import resample\n",
    "\n",
    "# Packages for training models\n",
    "from sklearn.pipeline import Pipeline\n",
    "from sklearn.linear_model import LogisticRegression\n",
    "from sklearn.naive_bayes import MultinomialNB\n",
    "from sklearn.svm import SVC\n",
    "from sklearn.ensemble import RandomForestClassifier\n",
    "from sklearn.neighbors import KNeighborsClassifier\n",
    "from sklearn.neural_network import MLPClassifier\n",
    "from sklearn.svm import LinearSVC\n",
    "import xgboost as xgb\n",
    "from xgboost import XGBClassifier\n",
    "from lightgbm import LGBMClassifier\n",
    "\n",
    "# Packages for hyperparameter optimisation\n",
    "from sklearn.model_selection import GridSearchCV\n",
    "\n",
    "# Packages for evaluating model accuracy\n",
    "from sklearn import metrics\n",
    "from sklearn.metrics import f1_score \n",
    "from sklearn.metrics import precision_score\n",
    "from sklearn.metrics import recall_score\n",
    "from sklearn.metrics import confusion_matrix\n",
    "from sklearn.metrics import accuracy_score\n",
    "from sklearn.metrics import classification_report\n",
    "from sklearn.metrics import roc_curve\n",
    "from sklearn.metrics import auc\n",
    "from sklearn.preprocessing import label_binarize\n",
    "from sklearn.utils.class_weight import compute_class_weight\n",
    "\n",
    "from sklearn.metrics import classification_report\n",
    "from sklearn.ensemble import RandomForestClassifier, VotingClassifier\n",
    "from sklearn.naive_bayes import MultinomialNB\n",
    "from sklearn.neighbors import KNeighborsClassifier\n",
    "from sklearn.linear_model import LogisticRegression\n",
    "from sklearn.svm import SVC\n",
    "from sklearn.pipeline import Pipeline\n",
    "from sklearn.feature_extraction.text import TfidfVectorizer\n",
    "from xgboost import XGBClassifier\n",
    "from sklearn.neural_network import MLPClassifier\n",
    "from imblearn.over_sampling import SMOTE\n",
    "from imblearn.pipeline import Pipeline as ImbPipeline\n",
    "from sklearn.model_selection import GridSearchCV, RandomizedSearchCV\n",
    "from sklearn.svm import SVC\n",
    "from lightgbm import LGBMClassifier\n",
    "from sklearn.neighbors import KNeighborsClassifier\n",
    "from sklearn.naive_bayes import MultinomialNB\n",
    "from sklearn.neural_network import MLPClassifier\n",
    "from sklearn.ensemble import RandomForestClassifier, GradientBoostingClassifier, AdaBoostClassifier\n",
    "from sklearn.svm import SVC\n",
    "from sklearn.linear_model import LogisticRegression\n",
    "from sklearn.tree import DecisionTreeClassifier\n",
    "from sklearn.model_selection import cross_val_score\n",
    "from lightgbm import LGBMClassifier\n",
    "from sklearn.svm import SVC\n",
    "from lightgbm import LGBMClassifier\n",
    "from sklearn.neighbors import KNeighborsClassifier\n",
    "from sklearn.naive_bayes import MultinomialNB\n",
    "from sklearn.neural_network import MLPClassifier\n"
   ]
  },
  {
   "cell_type": "markdown",
   "id": "60306013",
   "metadata": {},
   "source": [
    "<a id=\"subsection-two\"></a>\n",
    "# Loading the Datasets"
   ]
  },
  {
   "cell_type": "code",
   "execution_count": 154,
   "id": "9a183c60",
   "metadata": {},
   "outputs": [],
   "source": [
    "sample_submission = pd.read_csv (\"sample_submission.csv\")\n",
    "test =  pd.read_csv (\"test.csv\")\n",
    "train =  pd.read_csv (\"train.csv\")"
   ]
  },
  {
   "cell_type": "code",
   "execution_count": 155,
   "id": "176d6f4f",
   "metadata": {},
   "outputs": [
    {
     "data": {
      "text/html": [
       "<div>\n",
       "<style scoped>\n",
       "    .dataframe tbody tr th:only-of-type {\n",
       "        vertical-align: middle;\n",
       "    }\n",
       "\n",
       "    .dataframe tbody tr th {\n",
       "        vertical-align: top;\n",
       "    }\n",
       "\n",
       "    .dataframe thead th {\n",
       "        text-align: right;\n",
       "    }\n",
       "</style>\n",
       "<table border=\"1\" class=\"dataframe\">\n",
       "  <thead>\n",
       "    <tr style=\"text-align: right;\">\n",
       "      <th></th>\n",
       "      <th>tweetid</th>\n",
       "      <th>sentiment</th>\n",
       "    </tr>\n",
       "  </thead>\n",
       "  <tbody>\n",
       "    <tr>\n",
       "      <th>0</th>\n",
       "      <td>169760</td>\n",
       "      <td>1</td>\n",
       "    </tr>\n",
       "    <tr>\n",
       "      <th>1</th>\n",
       "      <td>35326</td>\n",
       "      <td>1</td>\n",
       "    </tr>\n",
       "    <tr>\n",
       "      <th>2</th>\n",
       "      <td>224985</td>\n",
       "      <td>1</td>\n",
       "    </tr>\n",
       "    <tr>\n",
       "      <th>3</th>\n",
       "      <td>476263</td>\n",
       "      <td>1</td>\n",
       "    </tr>\n",
       "    <tr>\n",
       "      <th>4</th>\n",
       "      <td>872928</td>\n",
       "      <td>1</td>\n",
       "    </tr>\n",
       "  </tbody>\n",
       "</table>\n",
       "</div>"
      ],
      "text/plain": [
       "   tweetid  sentiment\n",
       "0   169760          1\n",
       "1    35326          1\n",
       "2   224985          1\n",
       "3   476263          1\n",
       "4   872928          1"
      ]
     },
     "execution_count": 155,
     "metadata": {},
     "output_type": "execute_result"
    }
   ],
   "source": [
    "sample_submission.head()"
   ]
  },
  {
   "cell_type": "code",
   "execution_count": 156,
   "id": "ebc527f6",
   "metadata": {},
   "outputs": [
    {
     "data": {
      "text/html": [
       "<div>\n",
       "<style scoped>\n",
       "    .dataframe tbody tr th:only-of-type {\n",
       "        vertical-align: middle;\n",
       "    }\n",
       "\n",
       "    .dataframe tbody tr th {\n",
       "        vertical-align: top;\n",
       "    }\n",
       "\n",
       "    .dataframe thead th {\n",
       "        text-align: right;\n",
       "    }\n",
       "</style>\n",
       "<table border=\"1\" class=\"dataframe\">\n",
       "  <thead>\n",
       "    <tr style=\"text-align: right;\">\n",
       "      <th></th>\n",
       "      <th>message</th>\n",
       "      <th>tweetid</th>\n",
       "    </tr>\n",
       "  </thead>\n",
       "  <tbody>\n",
       "    <tr>\n",
       "      <th>0</th>\n",
       "      <td>Europe will now be looking to China to make su...</td>\n",
       "      <td>169760</td>\n",
       "    </tr>\n",
       "    <tr>\n",
       "      <th>1</th>\n",
       "      <td>Combine this with the polling of staffers re c...</td>\n",
       "      <td>35326</td>\n",
       "    </tr>\n",
       "    <tr>\n",
       "      <th>2</th>\n",
       "      <td>The scary, unimpeachable evidence that climate...</td>\n",
       "      <td>224985</td>\n",
       "    </tr>\n",
       "    <tr>\n",
       "      <th>3</th>\n",
       "      <td>@Karoli @morgfair @OsborneInk @dailykos \\nPuti...</td>\n",
       "      <td>476263</td>\n",
       "    </tr>\n",
       "    <tr>\n",
       "      <th>4</th>\n",
       "      <td>RT @FakeWillMoore: 'Female orgasms cause globa...</td>\n",
       "      <td>872928</td>\n",
       "    </tr>\n",
       "  </tbody>\n",
       "</table>\n",
       "</div>"
      ],
      "text/plain": [
       "                                             message  tweetid\n",
       "0  Europe will now be looking to China to make su...   169760\n",
       "1  Combine this with the polling of staffers re c...    35326\n",
       "2  The scary, unimpeachable evidence that climate...   224985\n",
       "3  @Karoli @morgfair @OsborneInk @dailykos \\nPuti...   476263\n",
       "4  RT @FakeWillMoore: 'Female orgasms cause globa...   872928"
      ]
     },
     "execution_count": 156,
     "metadata": {},
     "output_type": "execute_result"
    }
   ],
   "source": [
    "test.head()"
   ]
  },
  {
   "cell_type": "code",
   "execution_count": 157,
   "id": "d6260ff1",
   "metadata": {},
   "outputs": [
    {
     "data": {
      "text/html": [
       "<div>\n",
       "<style scoped>\n",
       "    .dataframe tbody tr th:only-of-type {\n",
       "        vertical-align: middle;\n",
       "    }\n",
       "\n",
       "    .dataframe tbody tr th {\n",
       "        vertical-align: top;\n",
       "    }\n",
       "\n",
       "    .dataframe thead th {\n",
       "        text-align: right;\n",
       "    }\n",
       "</style>\n",
       "<table border=\"1\" class=\"dataframe\">\n",
       "  <thead>\n",
       "    <tr style=\"text-align: right;\">\n",
       "      <th></th>\n",
       "      <th>sentiment</th>\n",
       "      <th>message</th>\n",
       "      <th>tweetid</th>\n",
       "    </tr>\n",
       "  </thead>\n",
       "  <tbody>\n",
       "    <tr>\n",
       "      <th>0</th>\n",
       "      <td>1</td>\n",
       "      <td>PolySciMajor EPA chief doesn't think carbon di...</td>\n",
       "      <td>625221</td>\n",
       "    </tr>\n",
       "    <tr>\n",
       "      <th>1</th>\n",
       "      <td>1</td>\n",
       "      <td>It's not like we lack evidence of anthropogeni...</td>\n",
       "      <td>126103</td>\n",
       "    </tr>\n",
       "    <tr>\n",
       "      <th>2</th>\n",
       "      <td>2</td>\n",
       "      <td>RT @RawStory: Researchers say we have three ye...</td>\n",
       "      <td>698562</td>\n",
       "    </tr>\n",
       "    <tr>\n",
       "      <th>3</th>\n",
       "      <td>1</td>\n",
       "      <td>#TodayinMaker# WIRED : 2016 was a pivotal year...</td>\n",
       "      <td>573736</td>\n",
       "    </tr>\n",
       "    <tr>\n",
       "      <th>4</th>\n",
       "      <td>1</td>\n",
       "      <td>RT @SoyNovioDeTodas: It's 2016, and a racist, ...</td>\n",
       "      <td>466954</td>\n",
       "    </tr>\n",
       "  </tbody>\n",
       "</table>\n",
       "</div>"
      ],
      "text/plain": [
       "   sentiment                                            message  tweetid\n",
       "0          1  PolySciMajor EPA chief doesn't think carbon di...   625221\n",
       "1          1  It's not like we lack evidence of anthropogeni...   126103\n",
       "2          2  RT @RawStory: Researchers say we have three ye...   698562\n",
       "3          1  #TodayinMaker# WIRED : 2016 was a pivotal year...   573736\n",
       "4          1  RT @SoyNovioDeTodas: It's 2016, and a racist, ...   466954"
      ]
     },
     "execution_count": 157,
     "metadata": {},
     "output_type": "execute_result"
    }
   ],
   "source": [
    "train.head()"
   ]
  },
  {
   "cell_type": "code",
   "execution_count": 158,
   "id": "464df7d1",
   "metadata": {},
   "outputs": [
    {
     "data": {
      "text/plain": [
       "((15819, 3), (10546, 2))"
      ]
     },
     "execution_count": 158,
     "metadata": {},
     "output_type": "execute_result"
    }
   ],
   "source": [
    "# A look at the data structure\n",
    "train.shape, test.shape"
   ]
  },
  {
   "cell_type": "code",
   "execution_count": 159,
   "id": "f37d678c",
   "metadata": {},
   "outputs": [
    {
     "name": "stdout",
     "output_type": "stream",
     "text": [
      "<class 'pandas.core.frame.DataFrame'>\n",
      "RangeIndex: 15819 entries, 0 to 15818\n",
      "Data columns (total 3 columns):\n",
      " #   Column     Non-Null Count  Dtype \n",
      "---  ------     --------------  ----- \n",
      " 0   sentiment  15819 non-null  int64 \n",
      " 1   message    15819 non-null  object\n",
      " 2   tweetid    15819 non-null  int64 \n",
      "dtypes: int64(2), object(1)\n",
      "memory usage: 370.9+ KB\n"
     ]
    }
   ],
   "source": [
    "#checking data information\n",
    "train.info()"
   ]
  },
  {
   "cell_type": "markdown",
   "id": "07302df8",
   "metadata": {},
   "source": [
    "<a id=\"subsection-three\"></a>\n",
    "# Exploratory Data Analysis"
   ]
  },
  {
   "cell_type": "markdown",
   "id": "6d6a1355",
   "metadata": {},
   "source": [
    "<h3> Class Description:</h3>\n",
    "\n",
    "* <b>Class 2 News:</b> the tweet links to factual news about climate change\n",
    "* <b>Class1 Pro:</b> the tweet supports the belief of man-made climate change\n",
    "* <b>Class 0 Neutral:</b> the tweet neither supports nor refutes the belief of man-made climate change.\n",
    "* <b>Class-1  Anti: </b> the tweet does not believe in man-made climate change Variable definitions"
   ]
  },
  {
   "cell_type": "code",
   "execution_count": 160,
   "id": "36de2fef",
   "metadata": {},
   "outputs": [],
   "source": [
    "df = train\n",
    "sentiment = train['sentiment']"
   ]
  },
  {
   "cell_type": "code",
   "execution_count": 161,
   "id": "a636b542",
   "metadata": {},
   "outputs": [
    {
     "data": {
      "text/plain": [
       "sentiment    0\n",
       "message      0\n",
       "tweetid      0\n",
       "dtype: int64"
      ]
     },
     "execution_count": 161,
     "metadata": {},
     "output_type": "execute_result"
    }
   ],
   "source": [
    "train.isnull().sum()"
   ]
  },
  {
   "cell_type": "code",
   "execution_count": 162,
   "id": "e99f676b",
   "metadata": {},
   "outputs": [
    {
     "data": {
      "image/png": "[encoded data removed]",
      "text/plain": [
       "<Figure size 1000x1000 with 2 Axes>"
      ]
     },
     "metadata": {},
     "output_type": "display_data"
    }
   ],
   "source": [
    "features = ['sentiment', 'message', 'tweetid'] # create a list of all numerical features\n",
    "train[features].hist(figsize=(10,10));"
   ]
  },
  {
   "cell_type": "code",
   "execution_count": 163,
   "id": "5d706124",
   "metadata": {},
   "outputs": [
    {
     "data": {
      "image/png": "[encoded data removed]",
      "text/plain": [
       "<Figure size 1000x1000 with 6 Axes>"
      ]
     },
     "metadata": {},
     "output_type": "display_data"
    }
   ],
   "source": [
    "train[features].plot(kind='density', subplots=True, layout=(3, 2), sharex=False, figsize=(10, 10));"
   ]
  },
  {
   "cell_type": "markdown",
   "id": "bd9278cd",
   "metadata": {},
   "source": [
    "<a id=\"section-seven\"></a>\n",
    "# Data Preprocessing\n",
    "* Extract tweet sentiments\n",
    "* Extract hashtags\n",
    "* Replace contractions\n",
    "* Remove URLS,punctuations,mentions, numbers and extra white space\n",
    "* Replace shortened words/slang\n",
    "* Tokenization\n",
    "* Perform lemmatization"
   ]
  },
  {
   "cell_type": "code",
   "execution_count": 164,
   "id": "31b94e48",
   "metadata": {},
   "outputs": [],
   "source": [
    "# categorizing sentiments\n",
    "def categorize_sentiment(sentiment):\n",
    "    word_sentiment = []\n",
    "    for i in sentiment:\n",
    "        if i == 1:\n",
    "            word_sentiment.append('Pro')\n",
    "        elif i == 0:\n",
    "            word_sentiment.append('Neutral')\n",
    "        elif i == -1:\n",
    "            word_sentiment.append('Anti')\n",
    "        else:\n",
    "            word_sentiment.append('News')\n",
    "\n",
    "    return word_sentiment\n",
    "\n",
    "# Assuming df is already defined somewhere in your code\n",
    "df['sentiment'] = categorize_sentiment(sentiment)"
   ]
  },
  {
   "cell_type": "code",
   "execution_count": 165,
   "id": "1dc9d75f",
   "metadata": {},
   "outputs": [
    {
     "data": {
      "text/html": [
       "<div>\n",
       "<style scoped>\n",
       "    .dataframe tbody tr th:only-of-type {\n",
       "        vertical-align: middle;\n",
       "    }\n",
       "\n",
       "    .dataframe tbody tr th {\n",
       "        vertical-align: top;\n",
       "    }\n",
       "\n",
       "    .dataframe thead th {\n",
       "        text-align: right;\n",
       "    }\n",
       "</style>\n",
       "<table border=\"1\" class=\"dataframe\">\n",
       "  <thead>\n",
       "    <tr style=\"text-align: right;\">\n",
       "      <th></th>\n",
       "      <th>hashtag</th>\n",
       "      <th>count</th>\n",
       "    </tr>\n",
       "  </thead>\n",
       "  <tbody>\n",
       "    <tr>\n",
       "      <th>19</th>\n",
       "      <td>climate</td>\n",
       "      <td>187</td>\n",
       "    </tr>\n",
       "    <tr>\n",
       "      <th>24</th>\n",
       "      <td>BeforeTheFlood</td>\n",
       "      <td>129</td>\n",
       "    </tr>\n",
       "    <tr>\n",
       "      <th>68</th>\n",
       "      <td>climatechange</td>\n",
       "      <td>94</td>\n",
       "    </tr>\n",
       "    <tr>\n",
       "      <th>13</th>\n",
       "      <td>ImVotingBecause</td>\n",
       "      <td>62</td>\n",
       "    </tr>\n",
       "    <tr>\n",
       "      <th>4</th>\n",
       "      <td>COP22</td>\n",
       "      <td>59</td>\n",
       "    </tr>\n",
       "  </tbody>\n",
       "</table>\n",
       "</div>"
      ],
      "text/plain": [
       "            hashtag  count\n",
       "19          climate    187\n",
       "24   BeforeTheFlood    129\n",
       "68    climatechange     94\n",
       "13  ImVotingBecause     62\n",
       "4             COP22     59"
      ]
     },
     "execution_count": 165,
     "metadata": {},
     "output_type": "execute_result"
    }
   ],
   "source": [
    "def hashtag_extract(tweet):\n",
    "    hashtags = []\n",
    "    for i in tweet:\n",
    "        # Tokenize the tweet\n",
    "        tokens = nltk.word_tokenize(i)\n",
    "        ht = re.findall(r\"#(\\w+)\", i)\n",
    "        hashtags.append(ht)\n",
    "        \n",
    "    hashtags = sum(hashtags, [])\n",
    "    frequency = nltk.FreqDist(hashtags)\n",
    "    \n",
    "    hashtag_df = pd.DataFrame({'hashtag': list(frequency.keys()),\n",
    "                               'count': list(frequency.values())})\n",
    "    hashtag_df = hashtag_df.nlargest(15, columns=\"count\")\n",
    "\n",
    "    return hashtag_df\n",
    "\n",
    "pro = hashtag_extract(df['message'][df['sentiment'] == 'Pro'])\n",
    "anti = hashtag_extract(df['message'][df['sentiment'] == 'Anti'])\n",
    "neutral = hashtag_extract(df['message'][df['sentiment'] == 'Neutral'])\n",
    "news = hashtag_extract(df['message'][df['sentiment'] == 'News'])\n",
    "\n",
    "pro.head()"
   ]
  },
  {
   "cell_type": "code",
   "execution_count": 166,
   "id": "5174c68f",
   "metadata": {},
   "outputs": [],
   "source": [
    "# extracting all unque hashtags\n",
    "hashtags = df['message'].apply(lambda x: re.findall(r'[#]\\\\w+',x))"
   ]
  },
  {
   "cell_type": "code",
   "execution_count": 167,
   "id": "d9d1ddc0",
   "metadata": {},
   "outputs": [],
   "source": [
    "# Dictionary of contracted words\n",
    "contractions = {\n",
    "\"aren't\" : \"are not\",\n",
    "\"can't\" : \"cannot\",\n",
    "\"couldn't\" : \"could not\",\n",
    "\"didn't\" : \"did not\",\n",
    "\"doesn't\" : \"does not\",\n",
    "\"don't\" : \"do not\",\n",
    "\"hadn't\" : \"had not\",\n",
    "\"hasn't\" : \"has not\",\n",
    "\"haven't\" : \"have not\",\n",
    "\"he'd\" : \"he would\",\n",
    "\"he'll\" : \"he will\",\n",
    "\"he's\" : \"he is\",\n",
    "\"i'd\" : \"I would\",\n",
    "\"i'd\" : \"I had\",\n",
    "\"i'll\" : \"I will\",\n",
    "\"i'm\" : \"I am\",\n",
    "\"isn't\" : \"is not\",\n",
    "\"it's\" : \"it is\",\n",
    "\"it'll\":\"it will\",\n",
    "\"i've\" : \"I have\",\n",
    "\"let's\" : \"let us\",\n",
    "\"mightn't\" : \"might not\",\n",
    "\"mustn't\" : \"must not\",\n",
    "\"shan't\" : \"shall not\",\n",
    "\"she'd\" : \"she would\",\n",
    "\"she'll\" : \"she will\",\n",
    "\"she's\" : \"she is\",\n",
    "\"shouldn't\" : \"should not\",\n",
    "\"that's\" : \"that is\",\n",
    "\"there's\" : \"there is\",\n",
    "\"they'd\" : \"they would\",\n",
    "\"they'll\" : \"they will\",\n",
    "\"they're\" : \"they are\",\n",
    "\"they've\" : \"they have\",\n",
    "\"wasn't\": \"was not\",\n",
    "\"we'd\" : \"we would\",\n",
    "\"we're\" : \"we are\",\n",
    "\"weren't\" : \"were not\",\n",
    "\"we'll\":\"we will\",\n",
    "\"we've\" : \"we have\",\n",
    "\"what'll\" : \"what will\",\n",
    "\"what're\" : \"what are\",\n",
    "\"what's\" : \"what is\",\n",
    "\"what've\" : \"what have\",\n",
    "\"where's\" : \"where is\",\n",
    "\"who'd\" : \"who would\",\n",
    "\"who'll\" : \"who will\",\n",
    "\"who's\" : \"who is\",\n",
    "\"who've\" : \"who have\",\n",
    "\"won't\" : \"will not\",\n",
    "\"wouldn't\" : \"would not\",\n",
    "\"you'd\" : \"you would\",\n",
    "\"you'll\" : \"you will\",\n",
    "\"you're\" : \"you are\",\n",
    "\"you've\" : \"you have\",\n",
    "\"'re\": \" are\",\n",
    "}"
   ]
  },
  {
   "cell_type": "code",
   "execution_count": 168,
   "id": "cb9c966d",
   "metadata": {},
   "outputs": [],
   "source": [
    "# Replace contracted words with full words\n",
    "train['message'] = [' '.join([contractions[w.lower()] if w.lower() in contractions.keys() else w for w in raw.split()]) \n",
    "                       for raw in train['message']]\n",
    "\n",
    "# Lower case all words to remove noise from Capital words. Capital words may be seen as different from lower case words\n",
    "train['message'] = train['message'].str.lower()\n",
    "\n",
    "# Removing urls\n",
    "train['message'] = train['message'].apply(lambda x: re.sub(r'https\\S+','url',x))\n",
    "train['message'] = train['message'].apply(lambda x: re.sub(r'www\\S+', 'url',x))"
   ]
  },
  {
   "cell_type": "code",
   "execution_count": 169,
   "id": "dec792bb",
   "metadata": {},
   "outputs": [],
   "source": [
    "# Replace shortened words with full words\n",
    "short = {' BD ': ' Big Deal ',\n",
    " ' abt ':' about ',\n",
    " ' ab ': ' about ',\n",
    " ' fav ': ' favourite ',\n",
    " ' fab ': ' fabulous ',\n",
    " ' smh ': ' shaking my head ',\n",
    " ' u ': ' you ',\n",
    " ' c ': ' see ',\n",
    " ' anon ': ' anonymous ',\n",
    " ' ac ': ' aircon ',\n",
    " ' a/c ': ' aircon ',\n",
    " ' yo ':' year old ',\n",
    " ' n ':' and ',\n",
    " ' nd ':' and ',\n",
    " ' 2 ': ' to ',\n",
    " ' w ': ' with ',\n",
    " ' w/o ': ' without ',\n",
    " ' r ': ' are ',\n",
    " ' rip ':' rest in peace ',\n",
    " ' 4 ' : ' for ',\n",
    "' BF ': ' Boyfriend ',\n",
    "' BRB ': ' Be Right Back ',\n",
    "' BTW ': ' By The Way ',\n",
    "' GF ': ' Girlfriend ',\n",
    "' HBD ': ' Happy Birthday ',\n",
    "' JK ': ' Just Kidding ',\n",
    "' K ':' Okay ',\n",
    "' LMK ': ' Let Me Know ',\n",
    "' LOL ': ' Laugh Out Loud ',\n",
    "' HA ':' laugh ',\n",
    "' MYOB ': ' Mind Your Own Business ',\n",
    "' NBD ': ' No Big Deal ',\n",
    "' NVM ': ' Nevermind ',\n",
    "' Obv ':' Obviously ',\n",
    "' Obvi ':' Obviously ',\n",
    "' OMG ': ' Oh My God ',\n",
    "' Pls ': ' Please ',\n",
    "' Plz ': ' Please ',\n",
    "' Q ': ' Question ', \n",
    "' QQ ': ' Quick Question ',\n",
    "' RLY ': ' Really ',\n",
    "' SRLSY ': ' Seriously ',\n",
    "' TMI ': ' Too Much Information ',\n",
    "' TY ': ' Thank You, ',\n",
    "' TYVM ': ' Thank You Very Much ',\n",
    "' YW ': ' You are Welcome ',\n",
    "' FOMO ': ' Fear Of Missing Out ',\n",
    "' FTFY ': ' Fixed This For You ',\n",
    "' FTW ': ' For The Win ',\n",
    "' FYA ': ' For Your Amusement ',\n",
    "' FYE ': ' For Your Entertainment ',\n",
    "' GTI ': ' Going Through It ',\n",
    "' HTH ': ' Here to Help ',\n",
    "' IRL ': ' In Real Life ',\n",
    "' ICYMI ': ' In Case You Missed It ',\n",
    "' ICYWW ': ' In Case You Were Wondering ',\n",
    "' NBC ': ' Nobody Cares Though ',\n",
    "' NTW ': ' Not To Worry ',\n",
    "' OTD ': ' Of The Day ',\n",
    "' OOTD ': ' Outfit Of The Day ',\n",
    "' QOTD ': ' Quote of the Day ',\n",
    "' FOTD ': ' Find Of the Day ',\n",
    "' POIDH ': ' Pictures Or It Did ntt Happen ',\n",
    "' YOLO ': ' You Only Live Once ',\n",
    "' AFAIK ': ' As Far As I Know ',\n",
    "' DGYF ': ' Dang Girl You Fine ',\n",
    "' FWIW ': ' For What It is Worth ',\n",
    "' IDC ': ' I Do not Care ',\n",
    "' IDK ': ' I Do not Know ',\n",
    "' IIRC ': ' If I Remember Correctly ',\n",
    "' IMHO ': ' In My Honest Opinion ',\n",
    "' IMO ': ' In My Opinion ',\n",
    "' Jelly ': ' Jealous ',\n",
    "' Jellz ': ' Jealous ',\n",
    "' JSYK ': ' Just So You Know ',\n",
    "' LMAO ': ' Laughing My Ass Off ',\n",
    "' LMFAO ': ' Laughing My Fucking Ass Off ',\n",
    "' NTS ': ' Note to Self ',\n",
    "' ROFL ': ' Rolling On the Floor Laughing ',\n",
    "' ROFLMAO ': ' Rolling On the Floor Laughing My Ass Off ',\n",
    "' SMH ': ' Shaking My Head ',\n",
    "' TBH ': ' To Be Honest ',\n",
    "' TL;DR ':  ' Too Long; Did not Read ',\n",
    "' TLDR ':  ' Too Long; Did not Read ',\n",
    "' YGTR ': ' You Got That Right ',\n",
    "' AYKMWTS ': ' Are You Kidding Me With This Shit ',\n",
    "' BAMF ': ' Bad Ass Mother Fucker ',\n",
    "' FFS ': ' For Fuck Sake ',\n",
    "' FML ': ' Fuck My Life ',\n",
    "' HYFR ': ' Hell Yeah Fucking Right ',\n",
    "' IDGAF ': ' I Do not Give A Fuck ',\n",
    "' NFW ': ' No Fucking Way ',\n",
    "' PITA ': ' Pain In The Ass ',\n",
    "' POS ': ' Piece of Shit ',\n",
    "' SOL ': ' Shit Outta Luck ',\n",
    "' STFU ': ' Shut the Fuck Up ',\n",
    "' TF ': ' The Fuck ',\n",
    "' WTF ': ' What The Fuck ',\n",
    "' BFN ': ' Bye For Now ',\n",
    "' CU ': ' See You ',\n",
    "' IC ': ' I see ',\n",
    "' CYL ': ' See You Later ',\n",
    "' GTG ': ' Got to Go ',\n",
    "' OMW ': ' On My Way ',\n",
    "' RN ': ' Right Now ',\n",
    "' TTYL ': ' Talk To You Later ',\n",
    "' TYT ': ' Take Your time ',\n",
    "' CC ': ' Carbon Copy ',\n",
    "' CX ': ' Correction ',\n",
    "' DM ': ' Direct Message ',\n",
    "' FB ': ' Facebook ',\n",
    "' FBF ': ' Flash-Back Friday ',\n",
    "' FF ': ' Follow Friday ',\n",
    "' HT ': ' Tipping my hat ',\n",
    "' H/T ': ' Tipping my hat ',\n",
    "' IG ': ' Instagram ',\n",
    "' Insta ': ' Instagram ',\n",
    "' MT ':' Modified Tweet ',\n",
    "' OH ': ' Overheard ',\n",
    "' PRT ': ' Partial Retweet ',\n",
    "' RT ': ' Retweet ',\n",
    "'rt ' : ' retweet ',\n",
    "' SO ':' Shout Out ',\n",
    "' S/O ': ' Shout Out ',\n",
    "' TBT ': ' Throw-Back Thursday ',\n",
    "' AWOL ': ' Away While Online ',\n",
    "' BFF ': ' Best Friend Forever ',\n",
    "' NSFW ': ' Not Safe For Work ',\n",
    "' OG ': ' Original Gangster ',\n",
    "' PSA ': ' Public Service Announcement ',\n",
    "' PDA ': ' Public Display of Affection '}\n",
    "\n",
    "short = dict((key.lower(), value.lower()) for key,value in short.items())"
   ]
  },
  {
   "cell_type": "code",
   "execution_count": 170,
   "id": "39d63250",
   "metadata": {},
   "outputs": [],
   "source": [
    "# Replacing shortened words with full alternative words\n",
    "for word in short.keys():\n",
    "    train['message'] = train['message'].apply(lambda x: re.sub(word,short[word],x))"
   ]
  },
  {
   "cell_type": "code",
   "execution_count": 171,
   "id": "1d6478be",
   "metadata": {},
   "outputs": [],
   "source": [
    "# Remove punctuations\n",
    "train['message'] = train['message'].apply(lambda x: re.sub(r\"[^A-Za-z ]*\",'',x))"
   ]
  },
  {
   "cell_type": "code",
   "execution_count": 172,
   "id": "8cef0117",
   "metadata": {},
   "outputs": [],
   "source": [
    "# Remove Non-News Handles\n",
    "def remove_non_news_handles(tweet, news_handles):\n",
    "    # Find all Twitter handles in the tweet\n",
    "    twitter_handles = re.findall(r'@[\\w]*', tweet)\n",
    "    \n",
    "    # Filter out handles not in the news_handles list\n",
    "    filtered_handles = [handle for handle in twitter_handles if handle in news_handles]\n",
    "    \n",
    "    # Replace each handle with an empty string and remove '@' symbol\n",
    "    cleaned_tweet = re.sub(r'@[^\\s]+', '', tweet)\n",
    "    \n",
    "    return cleaned_tweet\n",
    "\n",
    "# Assuming 'news' is a list of Twitter handles representing news accounts\n",
    "train['message'] = train['message'].apply(lambda x: remove_non_news_handles(x, news))"
   ]
  },
  {
   "cell_type": "code",
   "execution_count": 173,
   "id": "f29e26a9",
   "metadata": {},
   "outputs": [],
   "source": [
    "# Clean the raw data\n",
    "def clean(data):\n",
    "    data = data.lower()\n",
    "    \n",
    "    # Fix strange characters\n",
    "    data = fix_text(data)\n",
    "    \n",
    "    # Removing urls\n",
    "    data = re.sub(r'https\\S+','url',data)\n",
    "    data = re.sub(r'www\\S+', 'url',data)\n",
    "\n",
    "    # Remove twitter non news related handles\n",
    "    data = ' '.join([y for y in data.split() if y not in [x for x in re.findall(r'@[\\w]*',data) if x not in news]])\n",
    "    \n",
    "    # Add sentiment\n",
    "    data = data + ' ' + sentiment(data)\n",
    "    \n",
    "    # Remove punctuation\n",
    "    data = re.sub(r\"[^A-Za-z ]*\",'',data)\n",
    "    \n",
    "    \n",
    "    return data"
   ]
  },
  {
   "cell_type": "code",
   "execution_count": 174,
   "id": "a8d33af2",
   "metadata": {},
   "outputs": [],
   "source": [
    "# Replace contracted words with full word\n",
    "test['message'] = [' '.join([contractions[w.lower()] if w.lower() in contractions.keys() else w for w in data.split()]) \n",
    "                      for data in test['message']]"
   ]
  },
  {
   "cell_type": "code",
   "execution_count": 175,
   "id": "52241f30",
   "metadata": {},
   "outputs": [],
   "source": [
    "# Replacing shortened words with full words\n",
    "for word in short.keys():\n",
    "    test['message'] = test['message'].apply(lambda x: re.sub(word,short[word],x))"
   ]
  },
  {
   "cell_type": "code",
   "execution_count": 176,
   "id": "71fb69b8",
   "metadata": {},
   "outputs": [],
   "source": [
    "# Apply cleaning function\n",
    "def clean(text):\n",
    "    # Your cleaning logic here\n",
    "    cleaned_text = text.lower()  # Example: Convert text to lowercase\n",
    "    return cleaned_text\n",
    "\n",
    "# Apply cleaning function to the 'message' column of the DataFrame 'test'\n",
    "test['message'] = test['message'].apply(clean)"
   ]
  },
  {
   "cell_type": "code",
   "execution_count": 177,
   "id": "17b1fbf9",
   "metadata": {},
   "outputs": [],
   "source": [
    "# Now Vectorizing\n",
    "from sklearn.feature_extraction.text import CountVectorizer\n",
    "import pandas as pd\n",
    "\n",
    "def frequency(tweet):\n",
    "    # Count vectorizer excluding English stopwords\n",
    "    cv = CountVectorizer(stop_words='english')\n",
    "    words = cv.fit_transform(tweet)\n",
    "    \n",
    "    # Count the words in the tweets and determine the frequency of each word\n",
    "    sum_words = words.sum(axis=0)\n",
    "    words_freq = [(word, sum_words[0, i]) for word, i in cv.vocabulary_.items()]\n",
    "    words_freq = sorted(words_freq, key=lambda x: x[1], reverse=True)\n",
    "    \n",
    "    # Create a DataFrame to store the top 25 words and their frequencies\n",
    "    frequency_df = pd.DataFrame(words_freq, columns=['word', 'frequency'])\n",
    "    frequency_df = frequency_df.head(25)\n",
    "    \n",
    "    return frequency_df\n",
    "\n",
    "# Extract the top 25 words in each class\n",
    "pro_frequency = frequency(df['message'][df['sentiment'] == 'Pro'])\n",
    "anti_frequency = frequency(df['message'][df['sentiment'] == 'Anti'])\n",
    "news_frequency = frequency(df['message'][df['sentiment'] == 'News'])\n",
    "neutral_frequency = frequency(df['message'][df['sentiment'] == 'Neutral'])\n"
   ]
  },
  {
   "cell_type": "code",
   "execution_count": 178,
   "id": "f9b22380",
   "metadata": {},
   "outputs": [
    {
     "name": "stdout",
     "output_type": "stream",
     "text": [
      "Percentage of duplicated tweets in train data:\n",
      "12.35 %\n"
     ]
    }
   ],
   "source": [
    "# check for duplicates\n",
    "dup_tweets = round((1-(df['message'].nunique()/len(df['message'])))*100,2)\n",
    "print('Percentage of duplicated tweets in train data:')\n",
    "print(dup_tweets,'%')"
   ]
  },
  {
   "cell_type": "code",
   "execution_count": 179,
   "id": "4cbbf1c5",
   "metadata": {},
   "outputs": [
    {
     "name": "stdout",
     "output_type": "stream",
     "text": [
      "Number of tweets per sentiment class\n"
     ]
    },
    {
     "data": {
      "text/plain": [
       "Pro        8530\n",
       "News       3640\n",
       "Neutral    2353\n",
       "Anti       1296\n",
       "Name: sentiment, dtype: int64"
      ]
     },
     "execution_count": 179,
     "metadata": {},
     "output_type": "execute_result"
    }
   ],
   "source": [
    "# Target variable analysis\n",
    "print('Number of tweets per sentiment class')\n",
    "df['sentiment'].replace({-1: 'Anti',0:'Neutral',1:'Pro',2:'News'}).value_counts()"
   ]
  },
  {
   "cell_type": "code",
   "execution_count": 180,
   "id": "c94787a2",
   "metadata": {},
   "outputs": [
    {
     "data": {
      "image/png": "[encoded data removed]",
      "text/plain": [
       "<Figure size 800x600 with 1 Axes>"
      ]
     },
     "metadata": {},
     "output_type": "display_data"
    }
   ],
   "source": [
    "category_labels = {\n",
    "    -1: \"Anti\",\n",
    "    0: \"Neutral\",\n",
    "    1: \"Pro\",\n",
    "    2: \"News\"\n",
    "}\n",
    "\n",
    "# Sample sentiment distribution data (replace with your actual data)\n",
    "category_counts = {\n",
    "    \"Pro\": 8530,\n",
    "    \"News\": 3640,\n",
    "    \"Neutral\": 2353,\n",
    "    \"Anti\": 1296\n",
    "}\n",
    "\n",
    "# Extract labels and counts from the dictionary\n",
    "labels = list(category_labels.values())\n",
    "counts = [category_counts[label] for label in labels]\n",
    "\n",
    "# Plot the bar graph\n",
    "plt.figure(figsize=(8, 6))\n",
    "plt.bar(labels, counts, color=['red', 'green', 'blue', 'orange'])\n",
    "plt.xlabel('Sentiment')\n",
    "plt.ylabel('Count')\n",
    "plt.title('Sentiment Distribution')\n",
    "plt.show()"
   ]
  },
  {
   "cell_type": "code",
   "execution_count": 181,
   "id": "75ce34ad",
   "metadata": {},
   "outputs": [
    {
     "data": {
      "image/png": "[encoded data removed]",
      "text/plain": [
       "<Figure size 1500x500 with 1 Axes>"
      ]
     },
     "metadata": {},
     "output_type": "display_data"
    }
   ],
   "source": [
    "plot1 = plt.figure(figsize=(15,5))\n",
    "names = ['Pro','News','Neutral','Anti']\n",
    "perc = df['sentiment'].replace({-1: 'Anti',0:'Neutral',1:'Pro',2:'News'}).value_counts()\n",
    "perc.name = ''\n",
    "perc.plot(kind='pie', labels=names, autopct='%1.1f%%')\n",
    "plt.title('Proportion of tweets in each class',fontsize = 16)\n",
    "plt.figtext(0.12, 0.1, 'figure 1: Percentage of tweets that are classified as either Anti, Pro, Neutral and News',\n",
    "            horizontalalignment='left',fontsize = 14,style='italic')\n",
    "plt.legend(df['sentiment'].replace({-1: 'Anti: Does not believe in man-made climate change',\n",
    "                                          0:'Neutral: Neither believes nor refutes man-made climate change',\n",
    "                                          1:'Pro:Believe in man-made climate change',\n",
    "                                          2:'News: Factual News about climate change'}).value_counts().index,\n",
    "           bbox_to_anchor=(2.3,0.7), loc=\"right\")\n",
    "\n",
    "plt.show()"
   ]
  },
  {
   "cell_type": "code",
   "execution_count": 182,
   "id": "879455db",
   "metadata": {},
   "outputs": [],
   "source": [
    "X = train['message']  \n",
    "y = train['sentiment']  \n",
    "\n",
    "# Split the data into training and testing sets\n",
    "X_train, X_test, y_train, y_test = train_test_split(X, y, test_size=0.2, random_state=2042)"
   ]
  },
  {
   "cell_type": "markdown",
   "id": "e77700ee",
   "metadata": {},
   "source": [
    "# Building Pipelines"
   ]
  },
  {
   "cell_type": "code",
   "execution_count": 183,
   "id": "1ce63f0f",
   "metadata": {},
   "outputs": [],
   "source": [
    "# Random Forest Classifier\n",
    "rf = Pipeline([('tfidf', TfidfVectorizer()),\n",
    "               ('clf', RandomForestClassifier(max_depth=5, \n",
    "                                              n_estimators=100))])\n",
    "\n",
    "# Naïve Bayes:\n",
    "nb = Pipeline([('tfidf', TfidfVectorizer()),\n",
    "               ('clf', MultinomialNB())])\n",
    "\n",
    "# K-NN Classifier\n",
    "knn = Pipeline([('tfidf', TfidfVectorizer()),\n",
    "                ('clf', KNeighborsClassifier(n_neighbors=5, \n",
    "                                             metric='minkowski', \n",
    "                                             p=2))])\n",
    "\n",
    "# Logistic Regression\n",
    "lr = Pipeline([('tfidf',TfidfVectorizer()),\n",
    "               ('clf',LogisticRegression(C=1, \n",
    "                                         class_weight='balanced', \n",
    "                                         max_iter=1000))])\n",
    "# Linear SVC:\n",
    "lsvc = Pipeline([('tfidf', TfidfVectorizer()),\n",
    "                 ('clf', LinearSVC(class_weight='balanced'))])"
   ]
  },
  {
   "cell_type": "code",
   "execution_count": 184,
   "id": "2675f723",
   "metadata": {},
   "outputs": [
    {
     "name": "stdout",
     "output_type": "stream",
     "text": [
      "SVM F1 Score: 0.73\n",
      "[LightGBM] [Info] Auto-choosing row-wise multi-threading, the overhead of testing was 6.740114 seconds.\n",
      "You can set `force_row_wise=true` to remove the overhead.\n",
      "And if memory is not enough, you can set `force_col_wise=true`.\n",
      "[LightGBM] [Info] Total Bins 32676\n",
      "[LightGBM] [Info] Number of data points in the train set: 12655, number of used features: 1077\n",
      "[LightGBM] [Info] Start training from score -1.386294\n",
      "[LightGBM] [Info] Start training from score -1.386294\n",
      "[LightGBM] [Info] Start training from score -1.386294\n",
      "[LightGBM] [Info] Start training from score -1.386294\n",
      "[LightGBM] [Info] Auto-choosing row-wise multi-threading, the overhead of testing was 16.037920 seconds.\n",
      "You can set `force_row_wise=true` to remove the overhead.\n",
      "And if memory is not enough, you can set `force_col_wise=true`.\n",
      "[LightGBM] [Info] Total Bins 26257\n",
      "[LightGBM] [Info] Number of data points in the train set: 10124, number of used features: 877\n",
      "[LightGBM] [Info] Start training from score -1.386294\n",
      "[LightGBM] [Info] Start training from score -1.386294\n",
      "[LightGBM] [Info] Start training from score -1.386294\n",
      "[LightGBM] [Info] Start training from score -1.386294\n",
      "[LightGBM] [Info] Auto-choosing row-wise multi-threading, the overhead of testing was 18.461959 seconds.\n",
      "You can set `force_row_wise=true` to remove the overhead.\n",
      "And if memory is not enough, you can set `force_col_wise=true`.\n",
      "[LightGBM] [Info] Total Bins 26608\n",
      "[LightGBM] [Info] Number of data points in the train set: 10124, number of used features: 902\n",
      "[LightGBM] [Info] Start training from score -1.386294\n",
      "[LightGBM] [Info] Start training from score -1.386294\n",
      "[LightGBM] [Info] Start training from score -1.386294\n",
      "[LightGBM] [Info] Start training from score -1.386294\n",
      "[LightGBM] [Info] Auto-choosing row-wise multi-threading, the overhead of testing was 16.905432 seconds.\n",
      "You can set `force_row_wise=true` to remove the overhead.\n",
      "And if memory is not enough, you can set `force_col_wise=true`.\n",
      "[LightGBM] [Info] Total Bins 26422\n",
      "[LightGBM] [Info] Number of data points in the train set: 10124, number of used features: 891\n",
      "[LightGBM] [Info] Start training from score -1.386294\n",
      "[LightGBM] [Info] Start training from score -1.386294\n",
      "[LightGBM] [Info] Start training from score -1.386294\n",
      "[LightGBM] [Info] Start training from score -1.386294\n",
      "[LightGBM] [Info] Auto-choosing row-wise multi-threading, the overhead of testing was 10.065383 seconds.\n",
      "You can set `force_row_wise=true` to remove the overhead.\n",
      "And if memory is not enough, you can set `force_col_wise=true`.\n",
      "[LightGBM] [Info] Total Bins 26399\n",
      "[LightGBM] [Info] Number of data points in the train set: 10124, number of used features: 886\n",
      "[LightGBM] [Info] Start training from score -1.386294\n",
      "[LightGBM] [Info] Start training from score -1.386294\n",
      "[LightGBM] [Info] Start training from score -1.386294\n",
      "[LightGBM] [Info] Start training from score -1.386294\n",
      "[LightGBM] [Info] Auto-choosing row-wise multi-threading, the overhead of testing was 17.510710 seconds.\n",
      "You can set `force_row_wise=true` to remove the overhead.\n",
      "And if memory is not enough, you can set `force_col_wise=true`.\n",
      "[LightGBM] [Info] Total Bins 26439\n",
      "[LightGBM] [Info] Number of data points in the train set: 10124, number of used features: 890\n",
      "[LightGBM] [Info] Start training from score -1.386294\n",
      "[LightGBM] [Info] Start training from score -1.386294\n",
      "[LightGBM] [Info] Start training from score -1.386294\n",
      "[LightGBM] [Info] Start training from score -1.386294\n",
      "LightGBM F1 Score: 0.68\n",
      "K-Nearest Neighbors F1 Score: 0.65\n",
      "Multinomial Naive Bayes F1 Score: 0.63\n",
      "Multi-layer Perceptron F1 Score: 0.72\n",
      "RandomForestClassifier F1 Score: 0.49\n",
      "Logistic Regression F1 Score: 0.70\n"
     ]
    },
    {
     "name": "stderr",
     "output_type": "stream",
     "text": [
      "C:\\Users\\admin\\.conda\\Lib\\site-packages\\sklearn\\svm\\_classes.py:31: FutureWarning: The default value of `dual` will change from `True` to `'auto'` in 1.5. Set the value of `dual` explicitly to suppress the warning.\n",
      "  warnings.warn(\n",
      "C:\\Users\\admin\\.conda\\Lib\\site-packages\\sklearn\\svm\\_classes.py:31: FutureWarning: The default value of `dual` will change from `True` to `'auto'` in 1.5. Set the value of `dual` explicitly to suppress the warning.\n",
      "  warnings.warn(\n",
      "C:\\Users\\admin\\.conda\\Lib\\site-packages\\sklearn\\svm\\_classes.py:31: FutureWarning: The default value of `dual` will change from `True` to `'auto'` in 1.5. Set the value of `dual` explicitly to suppress the warning.\n",
      "  warnings.warn(\n",
      "C:\\Users\\admin\\.conda\\Lib\\site-packages\\sklearn\\svm\\_classes.py:31: FutureWarning: The default value of `dual` will change from `True` to `'auto'` in 1.5. Set the value of `dual` explicitly to suppress the warning.\n",
      "  warnings.warn(\n",
      "C:\\Users\\admin\\.conda\\Lib\\site-packages\\sklearn\\svm\\_classes.py:31: FutureWarning: The default value of `dual` will change from `True` to `'auto'` in 1.5. Set the value of `dual` explicitly to suppress the warning.\n",
      "  warnings.warn(\n",
      "C:\\Users\\admin\\.conda\\Lib\\site-packages\\sklearn\\svm\\_classes.py:31: FutureWarning: The default value of `dual` will change from `True` to `'auto'` in 1.5. Set the value of `dual` explicitly to suppress the warning.\n",
      "  warnings.warn(\n"
     ]
    },
    {
     "name": "stdout",
     "output_type": "stream",
     "text": [
      "Linear SVC F1 Score: 0.74\n",
      "XGBoost F1 Score: 0.67\n"
     ]
    }
   ],
   "source": [
    "# Create a list of classifiers\n",
    "classifiers = {\n",
    "    \"SVM\": SVC(class_weight='balanced'),\n",
    "    \"LightGBM\": LGBMClassifier(class_weight='balanced'),\n",
    "    \"K-Nearest Neighbors\": KNeighborsClassifier(),\n",
    "    \"Multinomial Naive Bayes\": MultinomialNB(),\n",
    "    \"Multi-layer Perceptron\": MLPClassifier(),\n",
    "    \"RandomForestClassifier\": RandomForestClassifier(max_depth=5, n_estimators=100, class_weight='balanced'),\n",
    "    \"Logistic Regression\": LogisticRegression(class_weight='balanced'),\n",
    "    \"SVM\": SVC(class_weight='balanced'),\n",
    "    \"Multi-layer Perceptron\": MLPClassifier(),\n",
    "    \"Linear SVC\": LinearSVC(class_weight='balanced'),\n",
    "    \"XGBoost\": XGBClassifier(use_label_encoder=False, eval_metric='mlogloss')\n",
    "}\n",
    "\n",
    "# Train and evaluate each classifier\n",
    "for clf_name, clf in classifiers.items():\n",
    "    pipeline = Pipeline([\n",
    "        ('tfidf', TfidfVectorizer()),\n",
    "        ('clf', clf)\n",
    "    ])\n",
    "    pipeline.fit(X_train, y_train)\n",
    "    scores = cross_val_score(pipeline, X_train, y_train, cv=5, scoring='f1_micro')\n",
    "    print(f\"{clf_name} F1 Score: {scores.mean():.2f}\")"
   ]
  },
  {
   "cell_type": "markdown",
   "id": "9d30f3aa",
   "metadata": {},
   "source": [
    "#### Obesevations\n",
    "Based on the list of classifiers, it's evident that the top three best-performing models are as follows:\n",
    "* SVM: F1_micro Score of 0.73\n",
    "* Multi-layer Perceptron: F1_micro Score of 0.72\n",
    "* Logistic Regression: F1_micro Score of 0.70\n",
    "\n",
    "However, the following models did not perform as well:\n",
    "* K-Nearest Neighbors: F1_micro Score of 0.65\n",
    "* Multinomial Naive Bayes: F1_micro Score of 0.63\n",
    "* RandomForestClassifier: F1_micro Score of 0.49\n",
    "\n",
    "As a result, I will only perform hyperparameter tuning on the top three models."
   ]
  },
  {
   "cell_type": "markdown",
   "id": "8b6fe0ed",
   "metadata": {},
   "source": [
    "# Hyperparameter Tuning"
   ]
  },
  {
   "cell_type": "markdown",
   "id": "ec9cf1ce",
   "metadata": {},
   "source": [
    "## Hyperparameter Tuning for SVM:"
   ]
  },
  {
   "cell_type": "code",
   "execution_count": null,
   "id": "d6ed65ed",
   "metadata": {},
   "outputs": [
    {
     "name": "stdout",
     "output_type": "stream",
     "text": [
      "Fitting 5 folds for each of 1024 candidates, totalling 5120 fits\n"
     ]
    }
   ],
   "source": [
    "from sklearn.model_selection import GridSearchCV\n",
    "from sklearn.svm import SVC\n",
    "\n",
    "# SVM Classifier\n",
    "svm = SVC(class_weight='balanced')\n",
    "\n",
    "# Pipeline\n",
    "svm_pipeline = Pipeline([\n",
    "    ('tfidf', TfidfVectorizer()),\n",
    "    ('clf', svm)\n",
    "])\n",
    "\n",
    "# Define the parameters for grid search\n",
    "svm_parameters = {\n",
    "    'tfidf__max_df': (0.25, 0.5, 0.75, 1.0),\n",
    "    'tfidf__max_features': (None, 5000, 10000, 20000),\n",
    "    'clf__C': [0.1, 1, 10, 100],\n",
    "    'clf__gamma': [1, 0.1, 0.01, 0.001],\n",
    "    'clf__kernel': ['rbf', 'linear', 'poly', 'sigmoid']\n",
    "}\n",
    "\n",
    "# GridSearchCV\n",
    "svm_grid_search = GridSearchCV(svm_pipeline, svm_parameters, cv=5, n_jobs=-1, verbose=1)\n",
    "svm_grid_search.fit(X_train, y_train)\n",
    "\n",
    "# Output the best parameters\n",
    "print(\"SVM Best Parameters:\")\n",
    "print(svm_grid_search.best_params_)"
   ]
  },
  {
   "cell_type": "markdown",
   "id": "62f26e13",
   "metadata": {},
   "source": [
    "## Hyperparameter Tuning for Multi-layer Perceptron (MLP)"
   ]
  },
  {
   "cell_type": "code",
   "execution_count": null,
   "id": "1164bb1e",
   "metadata": {},
   "outputs": [],
   "source": [
    "from sklearn.neural_network import MLPClassifier\n",
    "\n",
    "# MLP Classifier\n",
    "mlp = MLPClassifier()\n",
    "\n",
    "# Pipeline\n",
    "mlp_pipeline = Pipeline([\n",
    "    ('tfidf', TfidfVectorizer()),\n",
    "    ('clf', mlp)\n",
    "])\n",
    "\n",
    "# Define the parameters for grid search\n",
    "mlp_parameters = {\n",
    "    'tfidf__max_df': (0.25, 0.5, 0.75, 1.0),\n",
    "    'tfidf__max_features': (None, 5000, 10000, 20000),\n",
    "    'clf__hidden_layer_sizes': [(50,), (100,), (150,)],\n",
    "    'clf__activation': ['logistic', 'tanh', 'relu'],\n",
    "    'clf__solver': ['sgd', 'adam'],\n",
    "    'clf__alpha': [0.0001, 0.001, 0.01],\n",
    "    'clf__learning_rate': ['constant', 'adaptive']\n",
    "}\n",
    "\n",
    "# GridSearchCV\n",
    "mlp_grid_search = GridSearchCV(mlp_pipeline, mlp_parameters, cv=5, n_jobs=-1, verbose=1)\n",
    "mlp_grid_search.fit(X_train, y_train)\n",
    "\n",
    "# Output the best parameters\n",
    "print(\"\\nMulti-layer Perceptron Best Parameters:\")\n",
    "print(mlp_grid_search.best_params_)\n"
   ]
  },
  {
   "cell_type": "markdown",
   "id": "61a06754",
   "metadata": {},
   "source": [
    "## Hyperparameter Tuning for Logistic Regression:"
   ]
  },
  {
   "cell_type": "code",
   "execution_count": null,
   "id": "9e51ef2c",
   "metadata": {},
   "outputs": [],
   "source": [
    "from sklearn.linear_model import LogisticRegression\n",
    "\n",
    "# Logistic Regression Classifier\n",
    "logistic = LogisticRegression(class_weight='balanced')\n",
    "\n",
    "# Pipeline\n",
    "logistic_pipeline = Pipeline([\n",
    "    ('tfidf', TfidfVectorizer()),\n",
    "    ('clf', logistic)\n",
    "])\n",
    "\n",
    "# Define the parameters for grid search\n",
    "logistic_parameters = {\n",
    "    'tfidf__max_df': (0.25, 0.5, 0.75, 1.0),\n",
    "    'tfidf__max_features': (None, 5000, 10000, 20000),\n",
    "    'clf__C': [0.01, 0.1, 1, 10, 100],\n",
    "    'clf__penalty': ['l1', 'l2']\n",
    "}\n",
    "\n",
    "# GridSearchCV\n",
    "logistic_grid_search = GridSearchCV(logistic_pipeline, logistic_parameters, cv=5, n_jobs=-1, verbose=1)\n",
    "logistic_grid_search.fit(X_train, y_train)\n",
    "\n",
    "# Output the best parameters\n",
    "print(\"\\nLogistic Regression Best Parameters:\")\n",
    "print(logistic_grid_search.best_params_)"
   ]
  },
  {
   "cell_type": "markdown",
   "id": "f788d1fa",
   "metadata": {},
   "source": [
    "# Submission"
   ]
  },
  {
   "cell_type": "code",
   "execution_count": null,
   "id": "be054039",
   "metadata": {},
   "outputs": [],
   "source": [
    "y_test = grid_search.predict(test['message'])\n",
    "output = pd.DataFrame({'tweetid': test.tweetid,\n",
    "                       'sentiment': y_test})\n",
    "output['sentiment'] = output['sentiment'].replace({'Anti':-1, 'Neutral':0, 'Pro':1, 'News':2})\n",
    "output['sentiment'].value_counts()\n",
    "\n",
    "\n",
    "output.to_csv('submission_lsvc.csv', index=False)\n"
   ]
  }
 ],
 "metadata": {
  "kernelspec": {
   "display_name": "Python 3 (ipykernel)",
   "language": "python",
   "name": "python3"
  },
  "language_info": {
   "codemirror_mode": {
    "name": "ipython",
    "version": 3
   },
   "file_extension": ".py",
   "mimetype": "text/x-python",
   "name": "python",
   "nbconvert_exporter": "python",
   "pygments_lexer": "ipython3",
   "version": "3.11.4"
  }
 },
 "nbformat": 4,
 "nbformat_minor": 5
}
